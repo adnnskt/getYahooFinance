{
  "cells": [
    {
      "cell_type": "markdown",
      "metadata": {
        "id": "a62Lnr4vdYxn"
      },
      "source": [
        "Yahoo Finance request"
      ]
    },
    {
      "cell_type": "code",
      "execution_count": null,
      "metadata": {
        "id": "dcOeq0P7eXP9"
      },
      "outputs": [],
      "source": [
        "%pip install yfinance"
      ]
    },
    {
      "cell_type": "code",
      "execution_count": null,
      "metadata": {
        "id": "1KDnd0SWddly"
      },
      "outputs": [],
      "source": [
        "import yfinance as yf\n",
        "fx = yf.Ticker(\"EURUSD=X\")\n",
        "fx.info"
      ]
    },
    {
      "cell_type": "code",
      "execution_count": null,
      "metadata": {
        "id": "8ogZ5BKFllD3"
      },
      "outputs": [],
      "source": [
        "fxHist = fx.history(start=\"2023-01-10\", end=\"2023-01-11\", interval= \"1h\")\n",
        "fxHist"
      ]
    },
    {
      "cell_type": "code",
      "execution_count": null,
      "metadata": {
        "colab": {
          "base_uri": "https://localhost:8080/"
        },
        "id": "K6JFLKxdUKHO",
        "outputId": "6cb6dda4-ae5c-40a6-fd35-dea70c26d549"
      },
      "outputs": [],
      "source": [
        "fxDict = fxHist.to_json(orient='index') ##convertendo resultado em json\n",
        "print(fxDict)"
      ]
    },
    {
      "attachments": {},
      "cell_type": "markdown",
      "metadata": {},
      "source": [
        "Conectando com cosmoDB-MS"
      ]
    },
    {
      "cell_type": "code",
      "execution_count": null,
      "metadata": {},
      "outputs": [],
      "source": [
        "%pip install azure-cosmos"
      ]
    },
    {
      "cell_type": "code",
      "execution_count": 18,
      "metadata": {},
      "outputs": [],
      "source": [
        "import azure.cosmos.documents as documents\n",
        "import azure.cosmos.cosmos_client as cosmos_client\n",
        "import azure.cosmos.exceptions as exceptions\n",
        "from azure.cosmos.partition_key import PartitionKey\n",
        "import datetime\n",
        "import config"
      ]
    },
    {
      "cell_type": "code",
      "execution_count": 19,
      "metadata": {},
      "outputs": [],
      "source": [
        "#configs do cosmodb\n",
        "\n",
        "HOST = config.settings['host']\n",
        "MASTER_KEY = config.settings['master_key']\n",
        "DATABASE_ID = config.settings['database_id']\n",
        "CONTAINER_ID = config.settings['container_id']"
      ]
    },
    {
      "cell_type": "code",
      "execution_count": 20,
      "metadata": {},
      "outputs": [],
      "source": [
        "# modelo de insert gerado pela ducumentação do Azure\n",
        "\n",
        "def get_sales_order(item_id):\n",
        "    order1 = {'id' : item_id,\n",
        "            'partitionKey' : 'Account1',\n",
        "            'purchase_order_number' : 'PO18009186470',\n",
        "            'order_date' : datetime.date(2005,1,10).strftime('%c'),\n",
        "            'subtotal' : 419.4589,\n",
        "            'tax_amount' : 12.5838,\n",
        "            'freight' : 472.3108,\n",
        "            'total_due' : 985.018,\n",
        "            'items' : [\n",
        "                {'order_qty' : 1,\n",
        "                    'product_id' : 100,\n",
        "                    'unit_price' : 418.4589,\n",
        "                    'line_price' : 418.4589\n",
        "                }\n",
        "                ],\n",
        "            'ttl' : 60 * 60 * 24 * 30\n",
        "            }\n",
        "\n",
        "    return order1\n",
        "\n",
        "\n",
        "def create_items(container):\n",
        "    print('\\nCreating Items\\n')\n",
        "    sales_order = get_sales_order(\"SalesOrder1\")\n",
        "    container.create_item(body=sales_order)"
      ]
    },
    {
      "cell_type": "code",
      "execution_count": 27,
      "metadata": {},
      "outputs": [],
      "source": [
        "def run_sample():\n",
        "    client = cosmos_client.CosmosClient(HOST, {'masterKey': MASTER_KEY}, user_agent=\"CosmosDBPythonQuickstart\", user_agent_overwrite=True)\n",
        "    try:\n",
        "        # setup database for this sample\n",
        "        try:\n",
        "            db = client.create_database(id=DATABASE_ID)\n",
        "            print('Database with id \\'{0}\\' created'.format(DATABASE_ID))\n",
        "\n",
        "        except exceptions.CosmosResourceExistsError:\n",
        "            db = client.get_database_client(DATABASE_ID)\n",
        "            print('Database with id \\'{0}\\' was found'.format(DATABASE_ID))\n",
        "\n",
        "        # setup container for this sample\n",
        "        try:\n",
        "            container = db.create_container(id=CONTAINER_ID, partition_key=PartitionKey(path='/partitionKey'))\n",
        "            print('Container with id \\'{0}\\' created'.format(CONTAINER_ID))\n",
        "\n",
        "        except exceptions.CosmosResourceExistsError:\n",
        "            container = db.get_container_client(CONTAINER_ID)\n",
        "            print('Container with id \\'{0}\\' was found'.format(CONTAINER_ID))\n",
        "\n",
        "        create_items(container)\n",
        "\n",
        "    except exceptions.CosmosHttpResponseError as e:\n",
        "        print('\\nrun_sample has caught an error. {0}'.format(e.message))\n",
        "\n",
        "    finally:\n",
        "            print(\"\\nrun_sample done\")"
      ]
    },
    {
      "cell_type": "code",
      "execution_count": 28,
      "metadata": {},
      "outputs": [
        {
          "name": "stdout",
          "output_type": "stream",
          "text": [
            "Database with id 'ToDoList' was found\n",
            "Container with id 'Items' was found\n",
            "\n",
            "Creating Items\n",
            "\n",
            "\n",
            "run_sample done\n"
          ]
        }
      ],
      "source": [
        "run_sample()"
      ]
    }
  ],
  "metadata": {
    "colab": {
      "authorship_tag": "ABX9TyOaHRJHmPqVHln/mwLCqayS",
      "include_colab_link": true,
      "provenance": []
    },
    "kernelspec": {
      "display_name": "base",
      "language": "python",
      "name": "python3"
    },
    "language_info": {
      "codemirror_mode": {
        "name": "ipython",
        "version": 3
      },
      "file_extension": ".py",
      "mimetype": "text/x-python",
      "name": "python",
      "nbconvert_exporter": "python",
      "pygments_lexer": "ipython3",
      "version": "3.9.7"
    },
    "vscode": {
      "interpreter": {
        "hash": "14ebcf064432077618eeee9fb6ef6970b5cae7313122713a73d5802b4d29190a"
      }
    }
  },
  "nbformat": 4,
  "nbformat_minor": 0
}
