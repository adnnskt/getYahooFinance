{
  "cells": [
    {
      "cell_type": "markdown",
      "metadata": {
        "id": "a62Lnr4vdYxn"
      },
      "source": [
        "Yahoo Finance request"
      ]
    },
    {
      "cell_type": "code",
      "execution_count": null,
      "metadata": {
        "id": "dcOeq0P7eXP9"
      },
      "outputs": [],
      "source": [
        "%pip install yfinance"
      ]
    },
    {
      "cell_type": "code",
      "execution_count": null,
      "metadata": {
        "id": "1KDnd0SWddly"
      },
      "outputs": [],
      "source": [
        "import yfinance as yf\n",
        "fx = yf.Ticker(\"EURUSD=X\")\n",
        "fx.info"
      ]
    },
    {
      "cell_type": "code",
      "execution_count": null,
      "metadata": {
        "id": "8ogZ5BKFllD3"
      },
      "outputs": [],
      "source": [
        "fxHist = fx.history(start=\"2023-01-10\", end=\"2023-01-11\", interval= \"1h\")\n",
        "fxHist"
      ]
    },
    {
      "cell_type": "code",
      "execution_count": null,
      "metadata": {
        "colab": {
          "base_uri": "https://localhost:8080/"
        },
        "id": "K6JFLKxdUKHO",
        "outputId": "6cb6dda4-ae5c-40a6-fd35-dea70c26d549"
      },
      "outputs": [],
      "source": [
        "fxDict = fxHist.to_json(orient='index') ##convertendo resultado em json\n",
        "print(fxDict)"
      ]
    },
    {
      "attachments": {},
      "cell_type": "markdown",
      "metadata": {},
      "source": [
        "Conectando com cosmoDB-MS"
      ]
    },
    {
      "cell_type": "code",
      "execution_count": null,
      "metadata": {},
      "outputs": [],
      "source": [
        "%pip install azure-cosmos"
      ]
    },
    {
      "cell_type": "code",
      "execution_count": 12,
      "metadata": {},
      "outputs": [],
      "source": [
        "import azure.cosmos.documents as documents\n",
        "import azure.cosmos.cosmos_client as cosmos_client\n",
        "import azure.cosmos.exceptions as exceptions\n",
        "from azure.cosmos.partition_key import PartitionKey\n",
        "import datetime\n",
        "import config"
      ]
    },
    {
      "cell_type": "code",
      "execution_count": null,
      "metadata": {},
      "outputs": [],
      "source": []
    }
  ],
  "metadata": {
    "colab": {
      "authorship_tag": "ABX9TyOaHRJHmPqVHln/mwLCqayS",
      "include_colab_link": true,
      "provenance": []
    },
    "kernelspec": {
      "display_name": "base",
      "language": "python",
      "name": "python3"
    },
    "language_info": {
      "codemirror_mode": {
        "name": "ipython",
        "version": 3
      },
      "file_extension": ".py",
      "mimetype": "text/x-python",
      "name": "python",
      "nbconvert_exporter": "python",
      "pygments_lexer": "ipython3",
      "version": "3.9.7"
    },
    "vscode": {
      "interpreter": {
        "hash": "14ebcf064432077618eeee9fb6ef6970b5cae7313122713a73d5802b4d29190a"
      }
    }
  },
  "nbformat": 4,
  "nbformat_minor": 0
}
