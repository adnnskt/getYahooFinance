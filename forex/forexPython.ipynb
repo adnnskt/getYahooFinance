{
  "cells": [
    {
      "cell_type": "markdown",
      "metadata": {
        "id": "a62Lnr4vdYxn"
      },
      "source": [
        "Yahoo Finance request"
      ]
    },
    {
      "cell_type": "code",
      "execution_count": null,
      "metadata": {
        "id": "dcOeq0P7eXP9"
      },
      "outputs": [],
      "source": [
        "%pip install yfinance"
      ]
    },
    {
      "cell_type": "code",
      "execution_count": null,
      "metadata": {
        "id": "1KDnd0SWddly"
      },
      "outputs": [],
      "source": [
        "import yfinance as yf\n",
        "fx = yf.Ticker(\"EURUSD=X\")\n",
        "fx.info"
      ]
    },
    {
      "cell_type": "code",
      "execution_count": null,
      "metadata": {
        "id": "8ogZ5BKFllD3"
      },
      "outputs": [],
      "source": [
        "fxHist = fx.history(start=\"2023-01-10\", end=\"2023-01-11\", interval= \"1h\")\n",
        "fxHist"
      ]
    },
    {
      "cell_type": "code",
      "execution_count": null,
      "metadata": {
        "colab": {
          "base_uri": "https://localhost:8080/"
        },
        "id": "K6JFLKxdUKHO",
        "outputId": "6cb6dda4-ae5c-40a6-fd35-dea70c26d549"
      },
      "outputs": [],
      "source": [
        "fxDict = fxHist.to_json(orient='index') ##convertendo resultado em json\n",
        "print(fxDict)"
      ]
    },
    {
      "attachments": {},
      "cell_type": "markdown",
      "metadata": {},
      "source": [
        "Conectando com cosmoDB-MS"
      ]
    },
    {
      "cell_type": "code",
      "execution_count": null,
      "metadata": {},
      "outputs": [],
      "source": [
        "%pip install azure-cosmos"
      ]
    },
    {
      "cell_type": "code",
      "execution_count": 12,
      "metadata": {},
      "outputs": [],
      "source": [
        "import azure.cosmos.documents as documents\n",
        "import azure.cosmos.cosmos_client as cosmos_client\n",
        "import azure.cosmos.exceptions as exceptions\n",
        "from azure.cosmos.partition_key import PartitionKey\n",
        "import datetime\n",
        "import config"
      ]
    },
    {
      "cell_type": "code",
      "execution_count": null,
      "metadata": {},
      "outputs": [],
      "source": [
        "#configs do cosmodb\n",
        "\n",
        "HOST = config.settings['host']\n",
        "MASTER_KEY = config.settings['master_key']\n",
        "DATABASE_ID = config.settings['database_id']\n",
        "CONTAINER_ID = config.settings['container_id']"
      ]
    },
    {
      "cell_type": "code",
      "execution_count": null,
      "metadata": {},
      "outputs": [],
      "source": [
        "# modelo de insert gerado pela ducumentação do Azure\n",
        "\n",
        "def get_sales_order(item_id):\n",
        "    order1 = {'id' : item_id,\n",
        "            'partitionKey' : 'Account1',\n",
        "            'purchase_order_number' : 'PO18009186470',\n",
        "            'order_date' : datetime.date(2005,1,10).strftime('%c'),\n",
        "            'subtotal' : 419.4589,\n",
        "            'tax_amount' : 12.5838,\n",
        "            'freight' : 472.3108,\n",
        "            'total_due' : 985.018,\n",
        "            'items' : [\n",
        "                {'order_qty' : 1,\n",
        "                    'product_id' : 100,\n",
        "                    'unit_price' : 418.4589,\n",
        "                    'line_price' : 418.4589\n",
        "                }\n",
        "                ],\n",
        "            'ttl' : 60 * 60 * 24 * 30\n",
        "            }\n",
        "\n",
        "    return order1\n",
        "\n",
        "\n",
        "def create_items(container):\n",
        "    print('\\nCreating Items\\n')\n",
        "    sales_order = get_sales_order(\"SalesOrder1\")\n",
        "    container.create_item(body=sales_order)"
      ]
    }
  ],
  "metadata": {
    "colab": {
      "authorship_tag": "ABX9TyOaHRJHmPqVHln/mwLCqayS",
      "include_colab_link": true,
      "provenance": []
    },
    "kernelspec": {
      "display_name": "base",
      "language": "python",
      "name": "python3"
    },
    "language_info": {
      "codemirror_mode": {
        "name": "ipython",
        "version": 3
      },
      "file_extension": ".py",
      "mimetype": "text/x-python",
      "name": "python",
      "nbconvert_exporter": "python",
      "pygments_lexer": "ipython3",
      "version": "3.9.7 (default, Sep 16 2021, 16:59:28) [MSC v.1916 64 bit (AMD64)]"
    },
    "vscode": {
      "interpreter": {
        "hash": "14ebcf064432077618eeee9fb6ef6970b5cae7313122713a73d5802b4d29190a"
      }
    }
  },
  "nbformat": 4,
  "nbformat_minor": 0
}
