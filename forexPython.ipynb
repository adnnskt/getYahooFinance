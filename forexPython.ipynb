{
  "nbformat": 4,
  "nbformat_minor": 0,
  "metadata": {
    "colab": {
      "provenance": [],
      "authorship_tag": "ABX9TyOaHRJHmPqVHln/mwLCqayS",
      "include_colab_link": true
    },
    "kernelspec": {
      "name": "python3",
      "display_name": "Python 3"
    },
    "language_info": {
      "name": "python"
    }
  },
  "cells": [
    {
      "cell_type": "markdown",
      "metadata": {
        "id": "view-in-github",
        "colab_type": "text"
      },
      "source": [
        "<a href=\"https://colab.research.google.com/github/adnnskt/getYahooFinance/blob/main/forexPython.ipynb\" target=\"_parent\"><img src=\"https://colab.research.google.com/assets/colab-badge.svg\" alt=\"Open In Colab\"/></a>"
      ]
    },
    {
      "cell_type": "markdown",
      "source": [
        "Yahoo Finance request"
      ],
      "metadata": {
        "id": "a62Lnr4vdYxn"
      }
    },
    {
      "cell_type": "code",
      "source": [
        "!pip install yfinance"
      ],
      "metadata": {
        "id": "dcOeq0P7eXP9"
      },
      "execution_count": null,
      "outputs": []
    },
    {
      "cell_type": "code",
      "source": [
        "import yfinance as yf\n",
        "\n",
        "fx = yf.Ticker(\"EURUSD=X\")\n",
        "\n",
        "fx.info ## Informações do Ativo, incluindo ações.\n"
      ],
      "metadata": {
        "id": "1KDnd0SWddly"
      },
      "execution_count": null,
      "outputs": []
    },
    {
      "cell_type": "code",
      "source": [
        "fxHist = fx.history(start=\"2023-01-10\", end=\"2023-01-11\", interval= \"1h\") ## Coletando histórico por intevalo de 1h\n",
        "fxHist"
      ],
      "metadata": {
        "id": "8ogZ5BKFllD3"
      },
      "execution_count": null,
      "outputs": []
    },
    {
      "cell_type": "code",
      "source": [
        "fxDict = fxHist.to_dict() ##convertendo resultado em dicionario\n",
        "print(fxDict)"
      ],
      "metadata": {
        "colab": {
          "base_uri": "https://localhost:8080/"
        },
        "id": "K6JFLKxdUKHO",
        "outputId": "6cb6dda4-ae5c-40a6-fd35-dea70c26d549"
      },
      "execution_count": 6,
      "outputs": [
        {
          "output_type": "stream",
          "name": "stdout",
          "text": [
            "{'Open': {Timestamp('2023-01-10 00:00:00+0000', tz='Europe/London'): 1.0734220743179321, Timestamp('2023-01-10 01:00:00+0000', tz='Europe/London'): 1.072961449623108, Timestamp('2023-01-10 02:00:00+0000', tz='Europe/London'): 1.0738831758499146, Timestamp('2023-01-10 03:00:00+0000', tz='Europe/London'): 1.0734220743179321, Timestamp('2023-01-10 04:00:00+0000', tz='Europe/London'): 1.073767900466919, Timestamp('2023-01-10 05:00:00+0000', tz='Europe/London'): 1.073306918144226, Timestamp('2023-01-10 06:00:00+0000', tz='Europe/London'): 1.0745755434036255, Timestamp('2023-01-10 07:00:00+0000', tz='Europe/London'): 1.073767900466919, Timestamp('2023-01-10 08:00:00+0000', tz='Europe/London'): 1.0736525058746338, Timestamp('2023-01-10 09:00:00+0000', tz='Europe/London'): 1.0741138458251953, Timestamp('2023-01-10 10:00:00+0000', tz='Europe/London'): 1.074806571006775, Timestamp('2023-01-10 11:00:00+0000', tz='Europe/London'): 1.0739984512329102, Timestamp('2023-01-10 12:00:00+0000', tz='Europe/London'): 1.073767900466919, Timestamp('2023-01-10 13:00:00+0000', tz='Europe/London'): 1.0722709894180298, Timestamp('2023-01-10 14:00:00+0000', tz='Europe/London'): 1.0726161003112793, Timestamp('2023-01-10 15:00:00+0000', tz='Europe/London'): 1.0744600296020508, Timestamp('2023-01-10 16:00:00+0000', tz='Europe/London'): 1.0730764865875244, Timestamp('2023-01-10 17:00:00+0000', tz='Europe/London'): 1.073767900466919, Timestamp('2023-01-10 18:00:00+0000', tz='Europe/London'): 1.0735372304916382, Timestamp('2023-01-10 19:00:00+0000', tz='Europe/London'): 1.0741138458251953, Timestamp('2023-01-10 20:00:00+0000', tz='Europe/London'): 1.0742292404174805, Timestamp('2023-01-10 21:00:00+0000', tz='Europe/London'): 1.0738831758499146, Timestamp('2023-01-10 22:00:00+0000', tz='Europe/London'): 1.073767900466919, Timestamp('2023-01-10 23:00:00+0000', tz='Europe/London'): 1.0736525058746338}, 'High': {Timestamp('2023-01-10 00:00:00+0000', tz='Europe/London'): 1.0739984512329102, Timestamp('2023-01-10 01:00:00+0000', tz='Europe/London'): 1.0746910572052002, Timestamp('2023-01-10 02:00:00+0000', tz='Europe/London'): 1.0746910572052002, Timestamp('2023-01-10 03:00:00+0000', tz='Europe/London'): 1.073767900466919, Timestamp('2023-01-10 04:00:00+0000', tz='Europe/London'): 1.0738831758499146, Timestamp('2023-01-10 05:00:00+0000', tz='Europe/London'): 1.0749220848083496, Timestamp('2023-01-10 06:00:00+0000', tz='Europe/London'): 1.0746910572052002, Timestamp('2023-01-10 07:00:00+0000', tz='Europe/London'): 1.0744600296020508, Timestamp('2023-01-10 08:00:00+0000', tz='Europe/London'): 1.0749220848083496, Timestamp('2023-01-10 09:00:00+0000', tz='Europe/London'): 1.075384497642517, Timestamp('2023-01-10 10:00:00+0000', tz='Europe/London'): 1.074806571006775, Timestamp('2023-01-10 11:00:00+0000', tz='Europe/London'): 1.0745755434036255, Timestamp('2023-01-10 12:00:00+0000', tz='Europe/London'): 1.073767900466919, Timestamp('2023-01-10 13:00:00+0000', tz='Europe/London'): 1.0728462934494019, Timestamp('2023-01-10 14:00:00+0000', tz='Europe/London'): 1.0760787725448608, Timestamp('2023-01-10 15:00:00+0000', tz='Europe/London'): 1.075384497642517, Timestamp('2023-01-10 16:00:00+0000', tz='Europe/London'): 1.0743446350097656, Timestamp('2023-01-10 17:00:00+0000', tz='Europe/London'): 1.074806571006775, Timestamp('2023-01-10 18:00:00+0000', tz='Europe/London'): 1.0741138458251953, Timestamp('2023-01-10 19:00:00+0000', tz='Europe/London'): 1.074806571006775, Timestamp('2023-01-10 20:00:00+0000', tz='Europe/London'): 1.074806571006775, Timestamp('2023-01-10 21:00:00+0000', tz='Europe/London'): 1.0742292404174805, Timestamp('2023-01-10 22:00:00+0000', tz='Europe/London'): 1.0745755434036255, Timestamp('2023-01-10 23:00:00+0000', tz='Europe/London'): 1.0745755434036255}, 'Low': {Timestamp('2023-01-10 00:00:00+0000', tz='Europe/London'): 1.0725010633468628, Timestamp('2023-01-10 01:00:00+0000', tz='Europe/London'): 1.072961449623108, Timestamp('2023-01-10 02:00:00+0000', tz='Europe/London'): 1.0725010633468628, Timestamp('2023-01-10 03:00:00+0000', tz='Europe/London'): 1.0728462934494019, Timestamp('2023-01-10 04:00:00+0000', tz='Europe/London'): 1.0731916427612305, Timestamp('2023-01-10 05:00:00+0000', tz='Europe/London'): 1.073306918144226, Timestamp('2023-01-10 06:00:00+0000', tz='Europe/London'): 1.072961449623108, Timestamp('2023-01-10 07:00:00+0000', tz='Europe/London'): 1.0725010633468628, Timestamp('2023-01-10 08:00:00+0000', tz='Europe/London'): 1.0736525058746338, Timestamp('2023-01-10 09:00:00+0000', tz='Europe/London'): 1.073306918144226, Timestamp('2023-01-10 10:00:00+0000', tz='Europe/London'): 1.073767900466919, Timestamp('2023-01-10 11:00:00+0000', tz='Europe/London'): 1.0735372304916382, Timestamp('2023-01-10 12:00:00+0000', tz='Europe/London'): 1.071926236152649, Timestamp('2023-01-10 13:00:00+0000', tz='Europe/London'): 1.0715816020965576, Timestamp('2023-01-10 14:00:00+0000', tz='Europe/London'): 1.0726161003112793, Timestamp('2023-01-10 15:00:00+0000', tz='Europe/London'): 1.0725010633468628, Timestamp('2023-01-10 16:00:00+0000', tz='Europe/London'): 1.0727311372756958, Timestamp('2023-01-10 17:00:00+0000', tz='Europe/London'): 1.0734220743179321, Timestamp('2023-01-10 18:00:00+0000', tz='Europe/London'): 1.0731916427612305, Timestamp('2023-01-10 19:00:00+0000', tz='Europe/London'): 1.0739984512329102, Timestamp('2023-01-10 20:00:00+0000', tz='Europe/London'): 1.073306918144226, Timestamp('2023-01-10 21:00:00+0000', tz='Europe/London'): 1.0736525058746338, Timestamp('2023-01-10 22:00:00+0000', tz='Europe/London'): 1.0735372304916382, Timestamp('2023-01-10 23:00:00+0000', tz='Europe/London'): 1.0736525058746338}, 'Close': {Timestamp('2023-01-10 00:00:00+0000', tz='Europe/London'): 1.072961449623108, Timestamp('2023-01-10 01:00:00+0000', tz='Europe/London'): 1.0739984512329102, Timestamp('2023-01-10 02:00:00+0000', tz='Europe/London'): 1.073306918144226, Timestamp('2023-01-10 03:00:00+0000', tz='Europe/London'): 1.0734220743179321, Timestamp('2023-01-10 04:00:00+0000', tz='Europe/London'): 1.0735372304916382, Timestamp('2023-01-10 05:00:00+0000', tz='Europe/London'): 1.0745755434036255, Timestamp('2023-01-10 06:00:00+0000', tz='Europe/London'): 1.0734220743179321, Timestamp('2023-01-10 07:00:00+0000', tz='Europe/London'): 1.0735372304916382, Timestamp('2023-01-10 08:00:00+0000', tz='Europe/London'): 1.0739984512329102, Timestamp('2023-01-10 09:00:00+0000', tz='Europe/London'): 1.074806571006775, Timestamp('2023-01-10 10:00:00+0000', tz='Europe/London'): 1.0738831758499146, Timestamp('2023-01-10 11:00:00+0000', tz='Europe/London'): 1.0738831758499146, Timestamp('2023-01-10 12:00:00+0000', tz='Europe/London'): 1.0723860263824463, Timestamp('2023-01-10 13:00:00+0000', tz='Europe/London'): 1.0725010633468628, Timestamp('2023-01-10 14:00:00+0000', tz='Europe/London'): 1.0743446350097656, Timestamp('2023-01-10 15:00:00+0000', tz='Europe/London'): 1.0730764865875244, Timestamp('2023-01-10 16:00:00+0000', tz='Europe/London'): 1.073767900466919, Timestamp('2023-01-10 17:00:00+0000', tz='Europe/London'): 1.0735372304916382, Timestamp('2023-01-10 18:00:00+0000', tz='Europe/London'): 1.0739984512329102, Timestamp('2023-01-10 19:00:00+0000', tz='Europe/London'): 1.0743446350097656, Timestamp('2023-01-10 20:00:00+0000', tz='Europe/London'): 1.0738831758499146, Timestamp('2023-01-10 21:00:00+0000', tz='Europe/London'): 1.0739984512329102, Timestamp('2023-01-10 22:00:00+0000', tz='Europe/London'): 1.0738831758499146, Timestamp('2023-01-10 23:00:00+0000', tz='Europe/London'): 1.0741138458251953}, 'Volume': {Timestamp('2023-01-10 00:00:00+0000', tz='Europe/London'): 0, Timestamp('2023-01-10 01:00:00+0000', tz='Europe/London'): 0, Timestamp('2023-01-10 02:00:00+0000', tz='Europe/London'): 0, Timestamp('2023-01-10 03:00:00+0000', tz='Europe/London'): 0, Timestamp('2023-01-10 04:00:00+0000', tz='Europe/London'): 0, Timestamp('2023-01-10 05:00:00+0000', tz='Europe/London'): 0, Timestamp('2023-01-10 06:00:00+0000', tz='Europe/London'): 0, Timestamp('2023-01-10 07:00:00+0000', tz='Europe/London'): 0, Timestamp('2023-01-10 08:00:00+0000', tz='Europe/London'): 0, Timestamp('2023-01-10 09:00:00+0000', tz='Europe/London'): 0, Timestamp('2023-01-10 10:00:00+0000', tz='Europe/London'): 0, Timestamp('2023-01-10 11:00:00+0000', tz='Europe/London'): 0, Timestamp('2023-01-10 12:00:00+0000', tz='Europe/London'): 0, Timestamp('2023-01-10 13:00:00+0000', tz='Europe/London'): 0, Timestamp('2023-01-10 14:00:00+0000', tz='Europe/London'): 0, Timestamp('2023-01-10 15:00:00+0000', tz='Europe/London'): 0, Timestamp('2023-01-10 16:00:00+0000', tz='Europe/London'): 0, Timestamp('2023-01-10 17:00:00+0000', tz='Europe/London'): 0, Timestamp('2023-01-10 18:00:00+0000', tz='Europe/London'): 0, Timestamp('2023-01-10 19:00:00+0000', tz='Europe/London'): 0, Timestamp('2023-01-10 20:00:00+0000', tz='Europe/London'): 0, Timestamp('2023-01-10 21:00:00+0000', tz='Europe/London'): 0, Timestamp('2023-01-10 22:00:00+0000', tz='Europe/London'): 0, Timestamp('2023-01-10 23:00:00+0000', tz='Europe/London'): 0}, 'Dividends': {Timestamp('2023-01-10 00:00:00+0000', tz='Europe/London'): 0.0, Timestamp('2023-01-10 01:00:00+0000', tz='Europe/London'): 0.0, Timestamp('2023-01-10 02:00:00+0000', tz='Europe/London'): 0.0, Timestamp('2023-01-10 03:00:00+0000', tz='Europe/London'): 0.0, Timestamp('2023-01-10 04:00:00+0000', tz='Europe/London'): 0.0, Timestamp('2023-01-10 05:00:00+0000', tz='Europe/London'): 0.0, Timestamp('2023-01-10 06:00:00+0000', tz='Europe/London'): 0.0, Timestamp('2023-01-10 07:00:00+0000', tz='Europe/London'): 0.0, Timestamp('2023-01-10 08:00:00+0000', tz='Europe/London'): 0.0, Timestamp('2023-01-10 09:00:00+0000', tz='Europe/London'): 0.0, Timestamp('2023-01-10 10:00:00+0000', tz='Europe/London'): 0.0, Timestamp('2023-01-10 11:00:00+0000', tz='Europe/London'): 0.0, Timestamp('2023-01-10 12:00:00+0000', tz='Europe/London'): 0.0, Timestamp('2023-01-10 13:00:00+0000', tz='Europe/London'): 0.0, Timestamp('2023-01-10 14:00:00+0000', tz='Europe/London'): 0.0, Timestamp('2023-01-10 15:00:00+0000', tz='Europe/London'): 0.0, Timestamp('2023-01-10 16:00:00+0000', tz='Europe/London'): 0.0, Timestamp('2023-01-10 17:00:00+0000', tz='Europe/London'): 0.0, Timestamp('2023-01-10 18:00:00+0000', tz='Europe/London'): 0.0, Timestamp('2023-01-10 19:00:00+0000', tz='Europe/London'): 0.0, Timestamp('2023-01-10 20:00:00+0000', tz='Europe/London'): 0.0, Timestamp('2023-01-10 21:00:00+0000', tz='Europe/London'): 0.0, Timestamp('2023-01-10 22:00:00+0000', tz='Europe/London'): 0.0, Timestamp('2023-01-10 23:00:00+0000', tz='Europe/London'): 0.0}, 'Stock Splits': {Timestamp('2023-01-10 00:00:00+0000', tz='Europe/London'): 0.0, Timestamp('2023-01-10 01:00:00+0000', tz='Europe/London'): 0.0, Timestamp('2023-01-10 02:00:00+0000', tz='Europe/London'): 0.0, Timestamp('2023-01-10 03:00:00+0000', tz='Europe/London'): 0.0, Timestamp('2023-01-10 04:00:00+0000', tz='Europe/London'): 0.0, Timestamp('2023-01-10 05:00:00+0000', tz='Europe/London'): 0.0, Timestamp('2023-01-10 06:00:00+0000', tz='Europe/London'): 0.0, Timestamp('2023-01-10 07:00:00+0000', tz='Europe/London'): 0.0, Timestamp('2023-01-10 08:00:00+0000', tz='Europe/London'): 0.0, Timestamp('2023-01-10 09:00:00+0000', tz='Europe/London'): 0.0, Timestamp('2023-01-10 10:00:00+0000', tz='Europe/London'): 0.0, Timestamp('2023-01-10 11:00:00+0000', tz='Europe/London'): 0.0, Timestamp('2023-01-10 12:00:00+0000', tz='Europe/London'): 0.0, Timestamp('2023-01-10 13:00:00+0000', tz='Europe/London'): 0.0, Timestamp('2023-01-10 14:00:00+0000', tz='Europe/London'): 0.0, Timestamp('2023-01-10 15:00:00+0000', tz='Europe/London'): 0.0, Timestamp('2023-01-10 16:00:00+0000', tz='Europe/London'): 0.0, Timestamp('2023-01-10 17:00:00+0000', tz='Europe/London'): 0.0, Timestamp('2023-01-10 18:00:00+0000', tz='Europe/London'): 0.0, Timestamp('2023-01-10 19:00:00+0000', tz='Europe/London'): 0.0, Timestamp('2023-01-10 20:00:00+0000', tz='Europe/London'): 0.0, Timestamp('2023-01-10 21:00:00+0000', tz='Europe/London'): 0.0, Timestamp('2023-01-10 22:00:00+0000', tz='Europe/London'): 0.0, Timestamp('2023-01-10 23:00:00+0000', tz='Europe/London'): 0.0}}\n"
          ]
        }
      ]
    },
    {
      "cell_type": "markdown",
      "source": [
        "Forex Python request"
      ],
      "metadata": {
        "id": "KeHg73skpzNT"
      }
    },
    {
      "cell_type": "code",
      "source": [
        " !pip install forex-python #instalando pacote"
      ],
      "metadata": {
        "id": "MmZwUwDWIX3E"
      },
      "execution_count": null,
      "outputs": []
    },
    {
      "cell_type": "code",
      "execution_count": null,
      "metadata": {
        "id": "4HKHxeZ4HtwA"
      },
      "outputs": [],
      "source": [
        "#listando ultimos valores \n",
        "from forex_python.converter import CurrencyRates\n",
        "c = CurrencyRates()\n",
        "c.get_rates('USD') "
      ]
    },
    {
      "cell_type": "code",
      "source": [
        "import datetime\n",
        "\n",
        "date_obj = datetime.datetime(2023, 1, 11, 18, 00, 00, 000000)\n",
        "c.get_rates('USD', date_obj)"
      ],
      "metadata": {
        "id": "UH51ldCLQS93"
      },
      "execution_count": null,
      "outputs": []
    }
  ]
}