{
  "cells": [
    {
      "cell_type": "markdown",
      "metadata": {
        "id": "a62Lnr4vdYxn"
      },
      "source": [
        "Yahoo Finance request"
      ]
    },
    {
      "cell_type": "code",
      "execution_count": null,
      "metadata": {
        "id": "dcOeq0P7eXP9"
      },
      "outputs": [],
      "source": [
        "%pip install yfinance"
      ]
    },
    {
      "cell_type": "code",
      "execution_count": 68,
      "metadata": {
        "id": "1KDnd0SWddly"
      },
      "outputs": [],
      "source": [
        "# IMPORTA BIBLIOTECA YAHOO FINACIALS\n",
        "\n",
        "import yfinance as yf\n",
        "fx = yf.Ticker(\"EURUSD=X\")"
      ]
    },
    {
      "cell_type": "code",
      "execution_count": 84,
      "metadata": {},
      "outputs": [],
      "source": [
        "# REQUISIÇAO DOS DADOS HORA/HORA\n",
        "\n",
        "fxHist = fx.history(start=\"2023-03-08\", end=\"2023-03-09\", interval= \"1h\")"
      ]
    },
    {
      "cell_type": "code",
      "execution_count": 85,
      "metadata": {
        "id": "8ogZ5BKFllD3"
      },
      "outputs": [],
      "source": [
        "# RESETA INDICE E CRIA COMPARATIVO ENTRE OS RESULTADOS HORA/HORA\n",
        "\n",
        "import pandas as pd\n",
        "fxHist = fxHist.reset_index()\n",
        "\n",
        "result = []\n",
        "for i in range(0, fxHist.shape[0]):\n",
        "    result.append(fxHist.iloc[i][4] / fxHist.iloc[i-1][4] -1) \n",
        "\n",
        "resultDf = pd.DataFrame(result)\n",
        "resultNumeric = pd.to_numeric(resultDf[0])\n",
        "\n",
        "fxHist = fxHist.join(resultNumeric, lsuffix='_caller', rsuffix='_other')\n",
        "fxResult = fxHist.rename(columns={0: 'result'})"
      ]
    },
    {
      "cell_type": "code",
      "execution_count": null,
      "metadata": {},
      "outputs": [],
      "source": [
        "fxResult"
      ]
    },
    {
      "cell_type": "code",
      "execution_count": null,
      "metadata": {
        "colab": {
          "base_uri": "https://localhost:8080/"
        },
        "id": "K6JFLKxdUKHO",
        "outputId": "6cb6dda4-ae5c-40a6-fd35-dea70c26d549"
      },
      "outputs": [],
      "source": [
        "fxDict = fxHist.to_json(orient='index') ##convertendo resultado em json\n",
        "print(fxDict)"
      ]
    }
  ],
  "metadata": {
    "colab": {
      "authorship_tag": "ABX9TyOaHRJHmPqVHln/mwLCqayS",
      "include_colab_link": true,
      "provenance": []
    },
    "kernelspec": {
      "display_name": "base",
      "language": "python",
      "name": "python3"
    },
    "language_info": {
      "codemirror_mode": {
        "name": "ipython",
        "version": 3
      },
      "file_extension": ".py",
      "mimetype": "text/x-python",
      "name": "python",
      "nbconvert_exporter": "python",
      "pygments_lexer": "ipython3",
      "version": "3.9.7"
    },
    "vscode": {
      "interpreter": {
        "hash": "14ebcf064432077618eeee9fb6ef6970b5cae7313122713a73d5802b4d29190a"
      }
    }
  },
  "nbformat": 4,
  "nbformat_minor": 0
}
